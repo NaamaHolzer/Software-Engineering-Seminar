{
  "nbformat": 4,
  "nbformat_minor": 0,
  "metadata": {
    "colab": {
      "name": "Word Embedding Example.ipynb",
      "provenance": []
    },
    "kernelspec": {
      "name": "python3",
      "display_name": "Python 3"
    },
    "language_info": {
      "name": "python"
    }
  },
  "cells": [
    {
      "cell_type": "markdown",
      "metadata": {
        "id": "Uw5sL3Eqttsj"
      },
      "source": [
        "Taken from: http://textminingonline.com/getting-started-with-word2vec-and-glove-in-python\n",
        "text8 from: https://github.com/andersjo/word2vec_sampler"
      ]
    },
    {
      "cell_type": "code",
      "metadata": {
        "id": "rkGMDlp0tqw4"
      },
      "source": [
        "from  gensim.models import word2vec\n",
        "import logging"
      ],
      "execution_count": null,
      "outputs": []
    },
    {
      "cell_type": "code",
      "metadata": {
        "id": "i4Gaq1r_t5GN"
      },
      "source": [
        "logging.basicConfig(format='%(asctime)s : %(levelname)s : %(message)s', level=logging.INFO)\n",
        "url = 'https://github.com/andersjo/word2vec_sampler/blob/master/data/text8?raw=true'\n",
        "sentences = word2vec.Text8Corpus(url)"
      ],
      "execution_count": null,
      "outputs": []
    },
    {
      "cell_type": "code",
      "metadata": {
        "colab": {
          "base_uri": "https://localhost:8080/"
        },
        "id": "OW1yr_z3uzt3",
        "outputId": "e2c43232-7878-4901-e5b3-ebf32ac136b0"
      },
      "source": [
        "model = word2vec.Word2Vec(sentences, size=200) #length of encoded vector\n"
      ],
      "execution_count": null,
      "outputs": [
        {
          "output_type": "stream",
          "text": [
            "2021-05-02 06:19:23,273 : INFO : collecting all words and their counts\n",
            "2021-05-02 06:19:24,409 : INFO : PROGRESS: at sentence #0, processed 0 words, keeping 0 word types\n",
            "2021-05-02 06:19:32,169 : INFO : collected 253854 word types from a corpus of 17005207 raw words and 1701 sentences\n",
            "2021-05-02 06:19:32,171 : INFO : Loading a fresh vocabulary\n",
            "2021-05-02 06:19:32,527 : INFO : effective_min_count=5 retains 71290 unique words (28% of original 253854, drops 182564)\n",
            "2021-05-02 06:19:32,528 : INFO : effective_min_count=5 leaves 16718844 word corpus (98% of original 17005207, drops 286363)\n",
            "2021-05-02 06:19:32,796 : INFO : deleting the raw counts dictionary of 253854 items\n",
            "2021-05-02 06:19:32,809 : INFO : sample=0.001 downsamples 38 most-common words\n",
            "2021-05-02 06:19:32,813 : INFO : downsampling leaves estimated 12506280 word corpus (74.8% of prior 16718844)\n",
            "2021-05-02 06:19:33,165 : INFO : estimated required memory for 71290 words and 200 dimensions: 149709000 bytes\n",
            "2021-05-02 06:19:33,168 : INFO : resetting layer weights\n",
            "2021-05-02 06:19:48,685 : INFO : training model with 3 workers on 71290 vocabulary and 200 features, using sg=0 hs=0 sample=0.001 negative=5 window=5\n",
            "2021-05-02 06:19:49,794 : INFO : EPOCH 1 - PROGRESS: at 0.06% examples, 7059 words/s, in_qsize 3, out_qsize 0\n",
            "2021-05-02 06:19:50,818 : INFO : EPOCH 1 - PROGRESS: at 2.70% examples, 160447 words/s, in_qsize 5, out_qsize 0\n",
            "2021-05-02 06:19:51,831 : INFO : EPOCH 1 - PROGRESS: at 5.41% examples, 215541 words/s, in_qsize 5, out_qsize 1\n",
            "2021-05-02 06:19:52,836 : INFO : EPOCH 1 - PROGRESS: at 8.11% examples, 243218 words/s, in_qsize 6, out_qsize 1\n",
            "2021-05-02 06:19:53,849 : INFO : EPOCH 1 - PROGRESS: at 10.82% examples, 260421 words/s, in_qsize 5, out_qsize 0\n",
            "2021-05-02 06:19:54,875 : INFO : EPOCH 1 - PROGRESS: at 13.58% examples, 273155 words/s, in_qsize 5, out_qsize 0\n",
            "2021-05-02 06:19:55,903 : INFO : EPOCH 1 - PROGRESS: at 16.17% examples, 278917 words/s, in_qsize 4, out_qsize 1\n",
            "2021-05-02 06:19:56,904 : INFO : EPOCH 1 - PROGRESS: at 18.81% examples, 285222 words/s, in_qsize 5, out_qsize 0\n",
            "2021-05-02 06:19:57,925 : INFO : EPOCH 1 - PROGRESS: at 21.46% examples, 289580 words/s, in_qsize 6, out_qsize 0\n",
            "2021-05-02 06:19:58,934 : INFO : EPOCH 1 - PROGRESS: at 24.04% examples, 293083 words/s, in_qsize 4, out_qsize 1\n",
            "2021-05-02 06:19:59,949 : INFO : EPOCH 1 - PROGRESS: at 26.63% examples, 295488 words/s, in_qsize 5, out_qsize 0\n",
            "2021-05-02 06:20:00,982 : INFO : EPOCH 1 - PROGRESS: at 29.39% examples, 299113 words/s, in_qsize 5, out_qsize 0\n",
            "2021-05-02 06:20:01,988 : INFO : EPOCH 1 - PROGRESS: at 32.04% examples, 301733 words/s, in_qsize 5, out_qsize 0\n",
            "2021-05-02 06:20:03,016 : INFO : EPOCH 1 - PROGRESS: at 34.63% examples, 302996 words/s, in_qsize 5, out_qsize 0\n",
            "2021-05-02 06:20:04,018 : INFO : EPOCH 1 - PROGRESS: at 37.21% examples, 304441 words/s, in_qsize 5, out_qsize 0\n",
            "2021-05-02 06:20:05,058 : INFO : EPOCH 1 - PROGRESS: at 39.92% examples, 305792 words/s, in_qsize 5, out_qsize 0\n",
            "2021-05-02 06:20:06,064 : INFO : EPOCH 1 - PROGRESS: at 42.56% examples, 307226 words/s, in_qsize 5, out_qsize 0\n",
            "2021-05-02 06:20:07,071 : INFO : EPOCH 1 - PROGRESS: at 45.21% examples, 308443 words/s, in_qsize 5, out_qsize 0\n",
            "2021-05-02 06:20:08,084 : INFO : EPOCH 1 - PROGRESS: at 47.91% examples, 309895 words/s, in_qsize 5, out_qsize 0\n",
            "2021-05-02 06:20:09,101 : INFO : EPOCH 1 - PROGRESS: at 50.50% examples, 310389 words/s, in_qsize 5, out_qsize 0\n",
            "2021-05-02 06:20:10,121 : INFO : EPOCH 1 - PROGRESS: at 53.03% examples, 310446 words/s, in_qsize 5, out_qsize 0\n",
            "2021-05-02 06:20:11,146 : INFO : EPOCH 1 - PROGRESS: at 55.73% examples, 311427 words/s, in_qsize 5, out_qsize 0\n",
            "2021-05-02 06:20:12,160 : INFO : EPOCH 1 - PROGRESS: at 58.44% examples, 312378 words/s, in_qsize 5, out_qsize 0\n",
            "2021-05-02 06:20:13,188 : INFO : EPOCH 1 - PROGRESS: at 61.14% examples, 313174 words/s, in_qsize 5, out_qsize 0\n",
            "2021-05-02 06:20:14,192 : INFO : EPOCH 1 - PROGRESS: at 63.79% examples, 313851 words/s, in_qsize 6, out_qsize 0\n",
            "2021-05-02 06:20:15,207 : INFO : EPOCH 1 - PROGRESS: at 66.49% examples, 314555 words/s, in_qsize 6, out_qsize 0\n",
            "2021-05-02 06:20:16,210 : INFO : EPOCH 1 - PROGRESS: at 69.02% examples, 314645 words/s, in_qsize 5, out_qsize 0\n",
            "2021-05-02 06:20:17,223 : INFO : EPOCH 1 - PROGRESS: at 71.66% examples, 315083 words/s, in_qsize 5, out_qsize 0\n",
            "2021-05-02 06:20:18,249 : INFO : EPOCH 1 - PROGRESS: at 74.31% examples, 315446 words/s, in_qsize 4, out_qsize 1\n",
            "2021-05-02 06:20:19,253 : INFO : EPOCH 1 - PROGRESS: at 77.07% examples, 315896 words/s, in_qsize 5, out_qsize 0\n",
            "2021-05-02 06:20:20,279 : INFO : EPOCH 1 - PROGRESS: at 79.60% examples, 315562 words/s, in_qsize 4, out_qsize 1\n",
            "2021-05-02 06:20:21,320 : INFO : EPOCH 1 - PROGRESS: at 82.30% examples, 315785 words/s, in_qsize 5, out_qsize 0\n",
            "2021-05-02 06:20:22,329 : INFO : EPOCH 1 - PROGRESS: at 84.89% examples, 315935 words/s, in_qsize 6, out_qsize 0\n",
            "2021-05-02 06:20:23,364 : INFO : EPOCH 1 - PROGRESS: at 87.60% examples, 316251 words/s, in_qsize 5, out_qsize 0\n",
            "2021-05-02 06:20:24,374 : INFO : EPOCH 1 - PROGRESS: at 90.30% examples, 316876 words/s, in_qsize 5, out_qsize 0\n",
            "2021-05-02 06:20:25,384 : INFO : EPOCH 1 - PROGRESS: at 92.95% examples, 317052 words/s, in_qsize 5, out_qsize 0\n",
            "2021-05-02 06:20:26,404 : INFO : EPOCH 1 - PROGRESS: at 95.65% examples, 317423 words/s, in_qsize 5, out_qsize 0\n",
            "2021-05-02 06:20:27,409 : INFO : EPOCH 1 - PROGRESS: at 98.35% examples, 317797 words/s, in_qsize 5, out_qsize 0\n",
            "2021-05-02 06:20:27,963 : INFO : worker thread finished; awaiting finish of 2 more threads\n",
            "2021-05-02 06:20:27,970 : INFO : worker thread finished; awaiting finish of 1 more threads\n",
            "2021-05-02 06:20:27,986 : INFO : worker thread finished; awaiting finish of 0 more threads\n",
            "2021-05-02 06:20:27,990 : INFO : EPOCH - 1 : training on 17005207 raw words (12507950 effective words) took 39.3s, 318322 effective words/s\n",
            "2021-05-02 06:20:29,038 : INFO : EPOCH 2 - PROGRESS: at 0.06% examples, 7463 words/s, in_qsize 1, out_qsize 0\n",
            "2021-05-02 06:20:30,049 : INFO : EPOCH 2 - PROGRESS: at 2.53% examples, 155264 words/s, in_qsize 5, out_qsize 0\n",
            "2021-05-02 06:20:31,054 : INFO : EPOCH 2 - PROGRESS: at 5.06% examples, 207038 words/s, in_qsize 6, out_qsize 1\n",
            "2021-05-02 06:20:32,074 : INFO : EPOCH 2 - PROGRESS: at 7.76% examples, 236396 words/s, in_qsize 4, out_qsize 1\n",
            "2021-05-02 06:20:33,101 : INFO : EPOCH 2 - PROGRESS: at 10.41% examples, 253242 words/s, in_qsize 4, out_qsize 1\n",
            "2021-05-02 06:20:34,125 : INFO : EPOCH 2 - PROGRESS: at 13.17% examples, 267091 words/s, in_qsize 5, out_qsize 0\n",
            "2021-05-02 06:20:35,146 : INFO : EPOCH 2 - PROGRESS: at 15.81% examples, 275121 words/s, in_qsize 5, out_qsize 0\n",
            "2021-05-02 06:20:36,158 : INFO : EPOCH 2 - PROGRESS: at 18.46% examples, 281652 words/s, in_qsize 5, out_qsize 0\n",
            "2021-05-02 06:20:37,165 : INFO : EPOCH 2 - PROGRESS: at 20.81% examples, 282653 words/s, in_qsize 6, out_qsize 0\n",
            "2021-05-02 06:20:38,181 : INFO : EPOCH 2 - PROGRESS: at 23.22% examples, 284354 words/s, in_qsize 5, out_qsize 0\n",
            "2021-05-02 06:20:39,208 : INFO : EPOCH 2 - PROGRESS: at 25.87% examples, 288072 words/s, in_qsize 5, out_qsize 0\n",
            "2021-05-02 06:20:40,215 : INFO : EPOCH 2 - PROGRESS: at 28.40% examples, 290492 words/s, in_qsize 3, out_qsize 2\n",
            "2021-05-02 06:20:41,224 : INFO : EPOCH 2 - PROGRESS: at 30.81% examples, 291426 words/s, in_qsize 5, out_qsize 0\n",
            "2021-05-02 06:20:42,251 : INFO : EPOCH 2 - PROGRESS: at 33.16% examples, 291338 words/s, in_qsize 6, out_qsize 2\n",
            "2021-05-02 06:20:43,308 : INFO : EPOCH 2 - PROGRESS: at 35.92% examples, 294063 words/s, in_qsize 5, out_qsize 0\n",
            "2021-05-02 06:20:44,333 : INFO : EPOCH 2 - PROGRESS: at 38.62% examples, 296308 words/s, in_qsize 5, out_qsize 0\n",
            "2021-05-02 06:20:45,361 : INFO : EPOCH 2 - PROGRESS: at 41.33% examples, 298274 words/s, in_qsize 5, out_qsize 0\n",
            "2021-05-02 06:20:46,395 : INFO : EPOCH 2 - PROGRESS: at 43.92% examples, 299197 words/s, in_qsize 5, out_qsize 0\n",
            "2021-05-02 06:20:47,419 : INFO : EPOCH 2 - PROGRESS: at 46.38% examples, 299445 words/s, in_qsize 5, out_qsize 0\n",
            "2021-05-02 06:20:48,441 : INFO : EPOCH 2 - PROGRESS: at 48.91% examples, 300007 words/s, in_qsize 5, out_qsize 0\n",
            "2021-05-02 06:20:49,448 : INFO : EPOCH 2 - PROGRESS: at 51.38% examples, 300362 words/s, in_qsize 5, out_qsize 0\n",
            "2021-05-02 06:20:50,469 : INFO : EPOCH 2 - PROGRESS: at 54.03% examples, 301656 words/s, in_qsize 5, out_qsize 0\n",
            "2021-05-02 06:20:51,495 : INFO : EPOCH 2 - PROGRESS: at 56.67% examples, 302518 words/s, in_qsize 5, out_qsize 0\n",
            "2021-05-02 06:20:52,503 : INFO : EPOCH 2 - PROGRESS: at 59.32% examples, 303599 words/s, in_qsize 5, out_qsize 0\n",
            "2021-05-02 06:20:53,536 : INFO : EPOCH 2 - PROGRESS: at 61.90% examples, 304040 words/s, in_qsize 5, out_qsize 0\n",
            "2021-05-02 06:20:54,546 : INFO : EPOCH 2 - PROGRESS: at 64.32% examples, 303844 words/s, in_qsize 4, out_qsize 1\n",
            "2021-05-02 06:20:55,556 : INFO : EPOCH 2 - PROGRESS: at 66.61% examples, 303116 words/s, in_qsize 6, out_qsize 0\n",
            "2021-05-02 06:20:56,566 : INFO : EPOCH 2 - PROGRESS: at 68.90% examples, 302501 words/s, in_qsize 5, out_qsize 0\n",
            "2021-05-02 06:20:57,587 : INFO : EPOCH 2 - PROGRESS: at 71.19% examples, 301815 words/s, in_qsize 4, out_qsize 1\n",
            "2021-05-02 06:20:58,612 : INFO : EPOCH 2 - PROGRESS: at 73.54% examples, 301361 words/s, in_qsize 6, out_qsize 0\n",
            "2021-05-02 06:20:59,623 : INFO : EPOCH 2 - PROGRESS: at 75.96% examples, 300924 words/s, in_qsize 5, out_qsize 0\n",
            "2021-05-02 06:21:00,626 : INFO : EPOCH 2 - PROGRESS: at 78.31% examples, 300471 words/s, in_qsize 4, out_qsize 1\n",
            "2021-05-02 06:21:01,651 : INFO : EPOCH 2 - PROGRESS: at 80.66% examples, 300028 words/s, in_qsize 5, out_qsize 0\n",
            "2021-05-02 06:21:02,676 : INFO : EPOCH 2 - PROGRESS: at 83.07% examples, 299783 words/s, in_qsize 5, out_qsize 0\n",
            "2021-05-02 06:21:03,719 : INFO : EPOCH 2 - PROGRESS: at 85.71% examples, 300348 words/s, in_qsize 4, out_qsize 1\n",
            "2021-05-02 06:21:04,744 : INFO : EPOCH 2 - PROGRESS: at 88.18% examples, 300341 words/s, in_qsize 4, out_qsize 1\n",
            "2021-05-02 06:21:05,745 : INFO : EPOCH 2 - PROGRESS: at 90.89% examples, 301377 words/s, in_qsize 5, out_qsize 0\n",
            "2021-05-02 06:21:06,763 : INFO : EPOCH 2 - PROGRESS: at 93.53% examples, 301883 words/s, in_qsize 5, out_qsize 0\n",
            "2021-05-02 06:21:07,771 : INFO : EPOCH 2 - PROGRESS: at 96.24% examples, 302740 words/s, in_qsize 5, out_qsize 0\n",
            "2021-05-02 06:21:08,796 : INFO : EPOCH 2 - PROGRESS: at 98.71% examples, 302597 words/s, in_qsize 5, out_qsize 0\n",
            "2021-05-02 06:21:09,262 : INFO : worker thread finished; awaiting finish of 2 more threads\n",
            "2021-05-02 06:21:09,280 : INFO : worker thread finished; awaiting finish of 1 more threads\n",
            "2021-05-02 06:21:09,294 : INFO : worker thread finished; awaiting finish of 0 more threads\n",
            "2021-05-02 06:21:09,297 : INFO : EPOCH - 2 : training on 17005207 raw words (12505668 effective words) took 41.3s, 302821 effective words/s\n",
            "2021-05-02 06:21:10,733 : INFO : EPOCH 3 - PROGRESS: at 0.06% examples, 5402 words/s, in_qsize 3, out_qsize 0\n",
            "2021-05-02 06:21:11,750 : INFO : EPOCH 3 - PROGRESS: at 2.35% examples, 121222 words/s, in_qsize 5, out_qsize 0\n",
            "2021-05-02 06:21:12,752 : INFO : EPOCH 3 - PROGRESS: at 4.76% examples, 172811 words/s, in_qsize 5, out_qsize 0\n",
            "2021-05-02 06:21:13,759 : INFO : EPOCH 3 - PROGRESS: at 7.17% examples, 199791 words/s, in_qsize 6, out_qsize 1\n",
            "2021-05-02 06:21:14,759 : INFO : EPOCH 3 - PROGRESS: at 9.64% examples, 219528 words/s, in_qsize 5, out_qsize 0\n",
            "2021-05-02 06:21:15,768 : INFO : EPOCH 3 - PROGRESS: at 12.11% examples, 232818 words/s, in_qsize 5, out_qsize 0\n",
            "2021-05-02 06:21:16,788 : INFO : EPOCH 3 - PROGRESS: at 14.58% examples, 242147 words/s, in_qsize 5, out_qsize 0\n",
            "2021-05-02 06:21:17,791 : INFO : EPOCH 3 - PROGRESS: at 16.99% examples, 249062 words/s, in_qsize 5, out_qsize 0\n",
            "2021-05-02 06:21:18,797 : INFO : EPOCH 3 - PROGRESS: at 19.58% examples, 256707 words/s, in_qsize 5, out_qsize 0\n",
            "2021-05-02 06:21:19,828 : INFO : EPOCH 3 - PROGRESS: at 22.16% examples, 262357 words/s, in_qsize 5, out_qsize 0\n",
            "2021-05-02 06:21:20,847 : INFO : EPOCH 3 - PROGRESS: at 24.81% examples, 268115 words/s, in_qsize 5, out_qsize 0\n",
            "2021-05-02 06:21:21,851 : INFO : EPOCH 3 - PROGRESS: at 27.40% examples, 272745 words/s, in_qsize 5, out_qsize 0\n",
            "2021-05-02 06:21:22,880 : INFO : EPOCH 3 - PROGRESS: at 29.75% examples, 274143 words/s, in_qsize 4, out_qsize 0\n",
            "2021-05-02 06:21:23,891 : INFO : EPOCH 3 - PROGRESS: at 32.16% examples, 276013 words/s, in_qsize 5, out_qsize 0\n",
            "2021-05-02 06:21:24,894 : INFO : EPOCH 3 - PROGRESS: at 34.69% examples, 278807 words/s, in_qsize 5, out_qsize 0\n",
            "2021-05-02 06:21:25,922 : INFO : EPOCH 3 - PROGRESS: at 37.33% examples, 281580 words/s, in_qsize 4, out_qsize 1\n",
            "2021-05-02 06:21:26,933 : INFO : EPOCH 3 - PROGRESS: at 39.98% examples, 284255 words/s, in_qsize 6, out_qsize 0\n",
            "2021-05-02 06:21:27,936 : INFO : EPOCH 3 - PROGRESS: at 42.56% examples, 286401 words/s, in_qsize 5, out_qsize 0\n",
            "2021-05-02 06:21:28,973 : INFO : EPOCH 3 - PROGRESS: at 45.09% examples, 287391 words/s, in_qsize 5, out_qsize 0\n",
            "2021-05-02 06:21:29,987 : INFO : EPOCH 3 - PROGRESS: at 47.68% examples, 289038 words/s, in_qsize 6, out_qsize 0\n",
            "2021-05-02 06:21:31,003 : INFO : EPOCH 3 - PROGRESS: at 50.26% examples, 290507 words/s, in_qsize 5, out_qsize 0\n",
            "2021-05-02 06:21:32,012 : INFO : EPOCH 3 - PROGRESS: at 52.85% examples, 291881 words/s, in_qsize 5, out_qsize 0\n",
            "2021-05-02 06:21:33,018 : INFO : EPOCH 3 - PROGRESS: at 55.26% examples, 292330 words/s, in_qsize 5, out_qsize 0\n",
            "2021-05-02 06:21:34,030 : INFO : EPOCH 3 - PROGRESS: at 57.73% examples, 292857 words/s, in_qsize 6, out_qsize 0\n",
            "2021-05-02 06:21:35,064 : INFO : EPOCH 3 - PROGRESS: at 60.32% examples, 293716 words/s, in_qsize 5, out_qsize 0\n",
            "2021-05-02 06:21:36,087 : INFO : EPOCH 3 - PROGRESS: at 62.96% examples, 294863 words/s, in_qsize 5, out_qsize 0\n",
            "2021-05-02 06:21:37,115 : INFO : EPOCH 3 - PROGRESS: at 65.55% examples, 295610 words/s, in_qsize 4, out_qsize 1\n",
            "2021-05-02 06:21:38,132 : INFO : EPOCH 3 - PROGRESS: at 68.14% examples, 296459 words/s, in_qsize 4, out_qsize 1\n",
            "2021-05-02 06:21:39,135 : INFO : EPOCH 3 - PROGRESS: at 70.66% examples, 297133 words/s, in_qsize 4, out_qsize 1\n",
            "2021-05-02 06:21:40,138 : INFO : EPOCH 3 - PROGRESS: at 73.13% examples, 297561 words/s, in_qsize 5, out_qsize 0\n",
            "2021-05-02 06:21:41,148 : INFO : EPOCH 3 - PROGRESS: at 75.72% examples, 297995 words/s, in_qsize 5, out_qsize 0\n",
            "2021-05-02 06:21:42,164 : INFO : EPOCH 3 - PROGRESS: at 78.42% examples, 298829 words/s, in_qsize 5, out_qsize 0\n",
            "2021-05-02 06:21:43,174 : INFO : EPOCH 3 - PROGRESS: at 81.07% examples, 299633 words/s, in_qsize 5, out_qsize 0\n",
            "2021-05-02 06:21:44,197 : INFO : EPOCH 3 - PROGRESS: at 83.66% examples, 300121 words/s, in_qsize 5, out_qsize 0\n",
            "2021-05-02 06:21:45,201 : INFO : EPOCH 3 - PROGRESS: at 86.30% examples, 300927 words/s, in_qsize 5, out_qsize 0\n",
            "2021-05-02 06:21:46,244 : INFO : EPOCH 3 - PROGRESS: at 89.07% examples, 301809 words/s, in_qsize 5, out_qsize 0\n",
            "2021-05-02 06:21:47,300 : INFO : EPOCH 3 - PROGRESS: at 91.83% examples, 302465 words/s, in_qsize 4, out_qsize 1\n",
            "2021-05-02 06:21:48,300 : INFO : EPOCH 3 - PROGRESS: at 94.47% examples, 303123 words/s, in_qsize 5, out_qsize 1\n",
            "2021-05-02 06:21:49,316 : INFO : EPOCH 3 - PROGRESS: at 97.06% examples, 303460 words/s, in_qsize 5, out_qsize 0\n",
            "2021-05-02 06:21:50,334 : INFO : EPOCH 3 - PROGRESS: at 99.71% examples, 304008 words/s, in_qsize 4, out_qsize 1\n",
            "2021-05-02 06:21:50,377 : INFO : worker thread finished; awaiting finish of 2 more threads\n",
            "2021-05-02 06:21:50,388 : INFO : worker thread finished; awaiting finish of 1 more threads\n",
            "2021-05-02 06:21:50,394 : INFO : worker thread finished; awaiting finish of 0 more threads\n",
            "2021-05-02 06:21:50,396 : INFO : EPOCH - 3 : training on 17005207 raw words (12506177 effective words) took 41.1s, 304359 effective words/s\n",
            "2021-05-02 06:21:51,451 : INFO : EPOCH 4 - PROGRESS: at 2.12% examples, 256799 words/s, in_qsize 4, out_qsize 1\n",
            "2021-05-02 06:21:52,462 : INFO : EPOCH 4 - PROGRESS: at 4.88% examples, 297609 words/s, in_qsize 6, out_qsize 0\n",
            "2021-05-02 06:21:53,467 : INFO : EPOCH 4 - PROGRESS: at 7.52% examples, 305804 words/s, in_qsize 5, out_qsize 0\n",
            "2021-05-02 06:21:54,484 : INFO : EPOCH 4 - PROGRESS: at 10.23% examples, 311772 words/s, in_qsize 5, out_qsize 0\n",
            "2021-05-02 06:21:55,497 : INFO : EPOCH 4 - PROGRESS: at 12.76% examples, 311553 words/s, in_qsize 5, out_qsize 0\n",
            "2021-05-02 06:21:56,497 : INFO : EPOCH 4 - PROGRESS: at 15.40% examples, 314544 words/s, in_qsize 5, out_qsize 0\n",
            "2021-05-02 06:21:57,541 : INFO : EPOCH 4 - PROGRESS: at 18.05% examples, 315010 words/s, in_qsize 5, out_qsize 0\n",
            "2021-05-02 06:21:58,553 : INFO : EPOCH 4 - PROGRESS: at 20.69% examples, 316417 words/s, in_qsize 5, out_qsize 0\n",
            "2021-05-02 06:21:59,564 : INFO : EPOCH 4 - PROGRESS: at 23.28% examples, 317153 words/s, in_qsize 5, out_qsize 0\n",
            "2021-05-02 06:22:00,569 : INFO : EPOCH 4 - PROGRESS: at 25.81% examples, 317218 words/s, in_qsize 5, out_qsize 0\n",
            "2021-05-02 06:22:01,590 : INFO : EPOCH 4 - PROGRESS: at 28.45% examples, 318141 words/s, in_qsize 5, out_qsize 0\n",
            "2021-05-02 06:22:02,598 : INFO : EPOCH 4 - PROGRESS: at 31.04% examples, 318730 words/s, in_qsize 5, out_qsize 0\n",
            "2021-05-02 06:22:03,606 : INFO : EPOCH 4 - PROGRESS: at 33.57% examples, 318678 words/s, in_qsize 5, out_qsize 0\n",
            "2021-05-02 06:22:04,622 : INFO : EPOCH 4 - PROGRESS: at 36.16% examples, 318896 words/s, in_qsize 5, out_qsize 0\n",
            "2021-05-02 06:22:05,634 : INFO : EPOCH 4 - PROGRESS: at 38.74% examples, 318900 words/s, in_qsize 5, out_qsize 0\n",
            "2021-05-02 06:22:06,651 : INFO : EPOCH 4 - PROGRESS: at 41.50% examples, 320245 words/s, in_qsize 5, out_qsize 0\n",
            "2021-05-02 06:22:07,653 : INFO : EPOCH 4 - PROGRESS: at 44.09% examples, 320467 words/s, in_qsize 6, out_qsize 1\n",
            "2021-05-02 06:22:08,688 : INFO : EPOCH 4 - PROGRESS: at 46.91% examples, 321798 words/s, in_qsize 5, out_qsize 0\n",
            "2021-05-02 06:22:09,697 : INFO : EPOCH 4 - PROGRESS: at 49.56% examples, 322199 words/s, in_qsize 5, out_qsize 0\n",
            "2021-05-02 06:22:10,714 : INFO : EPOCH 4 - PROGRESS: at 52.15% examples, 321975 words/s, in_qsize 6, out_qsize 0\n",
            "2021-05-02 06:22:11,737 : INFO : EPOCH 4 - PROGRESS: at 54.67% examples, 321558 words/s, in_qsize 5, out_qsize 0\n",
            "2021-05-02 06:22:12,738 : INFO : EPOCH 4 - PROGRESS: at 57.38% examples, 322280 words/s, in_qsize 5, out_qsize 0\n",
            "2021-05-02 06:22:13,738 : INFO : EPOCH 4 - PROGRESS: at 59.96% examples, 322404 words/s, in_qsize 5, out_qsize 0\n",
            "2021-05-02 06:22:14,747 : INFO : EPOCH 4 - PROGRESS: at 62.67% examples, 322966 words/s, in_qsize 5, out_qsize 0\n",
            "2021-05-02 06:22:15,789 : INFO : EPOCH 4 - PROGRESS: at 65.55% examples, 323898 words/s, in_qsize 5, out_qsize 0\n",
            "2021-05-02 06:22:16,789 : INFO : EPOCH 4 - PROGRESS: at 68.14% examples, 323963 words/s, in_qsize 6, out_qsize 0\n",
            "2021-05-02 06:22:17,823 : INFO : EPOCH 4 - PROGRESS: at 70.72% examples, 323592 words/s, in_qsize 5, out_qsize 0\n",
            "2021-05-02 06:22:18,824 : INFO : EPOCH 4 - PROGRESS: at 73.31% examples, 323666 words/s, in_qsize 5, out_qsize 0\n",
            "2021-05-02 06:22:19,834 : INFO : EPOCH 4 - PROGRESS: at 75.96% examples, 323453 words/s, in_qsize 5, out_qsize 0\n",
            "2021-05-02 06:22:20,869 : INFO : EPOCH 4 - PROGRESS: at 78.66% examples, 323350 words/s, in_qsize 5, out_qsize 0\n",
            "2021-05-02 06:22:21,869 : INFO : EPOCH 4 - PROGRESS: at 81.31% examples, 323521 words/s, in_qsize 6, out_qsize 0\n",
            "2021-05-02 06:22:22,894 : INFO : EPOCH 4 - PROGRESS: at 83.95% examples, 323521 words/s, in_qsize 5, out_qsize 0\n",
            "2021-05-02 06:22:23,931 : INFO : EPOCH 4 - PROGRESS: at 86.65% examples, 323572 words/s, in_qsize 5, out_qsize 0\n",
            "2021-05-02 06:22:24,955 : INFO : EPOCH 4 - PROGRESS: at 89.30% examples, 323602 words/s, in_qsize 5, out_qsize 0\n",
            "2021-05-02 06:22:25,984 : INFO : EPOCH 4 - PROGRESS: at 92.00% examples, 323645 words/s, in_qsize 4, out_qsize 1\n",
            "2021-05-02 06:22:27,022 : INFO : EPOCH 4 - PROGRESS: at 94.83% examples, 324056 words/s, in_qsize 5, out_qsize 0\n",
            "2021-05-02 06:22:28,052 : INFO : EPOCH 4 - PROGRESS: at 97.59% examples, 324316 words/s, in_qsize 4, out_qsize 1\n",
            "2021-05-02 06:22:28,859 : INFO : worker thread finished; awaiting finish of 2 more threads\n",
            "2021-05-02 06:22:28,877 : INFO : worker thread finished; awaiting finish of 1 more threads\n",
            "2021-05-02 06:22:28,891 : INFO : worker thread finished; awaiting finish of 0 more threads\n",
            "2021-05-02 06:22:28,894 : INFO : EPOCH - 4 : training on 17005207 raw words (12506686 effective words) took 38.5s, 325000 effective words/s\n",
            "2021-05-02 06:22:29,930 : INFO : EPOCH 5 - PROGRESS: at 2.18% examples, 267060 words/s, in_qsize 4, out_qsize 1\n",
            "2021-05-02 06:22:30,933 : INFO : EPOCH 5 - PROGRESS: at 4.94% examples, 304111 words/s, in_qsize 5, out_qsize 0\n",
            "2021-05-02 06:22:31,934 : INFO : EPOCH 5 - PROGRESS: at 7.64% examples, 312930 words/s, in_qsize 5, out_qsize 0\n",
            "2021-05-02 06:22:32,947 : INFO : EPOCH 5 - PROGRESS: at 10.41% examples, 319447 words/s, in_qsize 5, out_qsize 0\n",
            "2021-05-02 06:22:33,959 : INFO : EPOCH 5 - PROGRESS: at 13.17% examples, 323622 words/s, in_qsize 5, out_qsize 0\n",
            "2021-05-02 06:22:34,967 : INFO : EPOCH 5 - PROGRESS: at 15.87% examples, 325455 words/s, in_qsize 5, out_qsize 0\n",
            "2021-05-02 06:22:35,968 : INFO : EPOCH 5 - PROGRESS: at 18.58% examples, 327275 words/s, in_qsize 5, out_qsize 0\n",
            "2021-05-02 06:22:36,984 : INFO : EPOCH 5 - PROGRESS: at 21.28% examples, 327997 words/s, in_qsize 5, out_qsize 0\n",
            "2021-05-02 06:22:37,993 : INFO : EPOCH 5 - PROGRESS: at 23.87% examples, 327683 words/s, in_qsize 5, out_qsize 0\n",
            "2021-05-02 06:22:39,014 : INFO : EPOCH 5 - PROGRESS: at 26.63% examples, 328831 words/s, in_qsize 5, out_qsize 0\n",
            "2021-05-02 06:22:40,039 : INFO : EPOCH 5 - PROGRESS: at 29.34% examples, 329325 words/s, in_qsize 5, out_qsize 0\n",
            "2021-05-02 06:22:41,092 : INFO : EPOCH 5 - PROGRESS: at 32.10% examples, 329599 words/s, in_qsize 5, out_qsize 0\n",
            "2021-05-02 06:22:42,109 : INFO : EPOCH 5 - PROGRESS: at 34.80% examples, 330165 words/s, in_qsize 5, out_qsize 0\n",
            "2021-05-02 06:22:43,143 : INFO : EPOCH 5 - PROGRESS: at 37.51% examples, 330053 words/s, in_qsize 5, out_qsize 0\n",
            "2021-05-02 06:22:44,144 : INFO : EPOCH 5 - PROGRESS: at 40.27% examples, 331054 words/s, in_qsize 5, out_qsize 0\n",
            "2021-05-02 06:22:45,151 : INFO : EPOCH 5 - PROGRESS: at 42.86% examples, 330598 words/s, in_qsize 5, out_qsize 0\n",
            "2021-05-02 06:22:46,162 : INFO : EPOCH 5 - PROGRESS: at 45.39% examples, 329576 words/s, in_qsize 5, out_qsize 0\n",
            "2021-05-02 06:22:47,169 : INFO : EPOCH 5 - PROGRESS: at 48.09% examples, 330033 words/s, in_qsize 5, out_qsize 0\n",
            "2021-05-02 06:22:48,178 : INFO : EPOCH 5 - PROGRESS: at 50.73% examples, 330055 words/s, in_qsize 5, out_qsize 0\n",
            "2021-05-02 06:22:49,182 : INFO : EPOCH 5 - PROGRESS: at 53.44% examples, 330382 words/s, in_qsize 5, out_qsize 0\n",
            "2021-05-02 06:22:50,200 : INFO : EPOCH 5 - PROGRESS: at 56.03% examples, 329947 words/s, in_qsize 5, out_qsize 1\n",
            "2021-05-02 06:22:51,245 : INFO : EPOCH 5 - PROGRESS: at 58.73% examples, 329610 words/s, in_qsize 3, out_qsize 2\n",
            "2021-05-02 06:22:52,265 : INFO : EPOCH 5 - PROGRESS: at 61.43% examples, 329793 words/s, in_qsize 5, out_qsize 0\n",
            "2021-05-02 06:22:53,269 : INFO : EPOCH 5 - PROGRESS: at 64.14% examples, 330098 words/s, in_qsize 5, out_qsize 0\n",
            "2021-05-02 06:22:54,317 : INFO : EPOCH 5 - PROGRESS: at 66.84% examples, 329786 words/s, in_qsize 4, out_qsize 1\n",
            "2021-05-02 06:22:55,328 : INFO : EPOCH 5 - PROGRESS: at 69.49% examples, 329748 words/s, in_qsize 5, out_qsize 0\n",
            "2021-05-02 06:22:56,328 : INFO : EPOCH 5 - PROGRESS: at 72.13% examples, 329831 words/s, in_qsize 5, out_qsize 0\n",
            "2021-05-02 06:22:57,340 : INFO : EPOCH 5 - PROGRESS: at 74.78% examples, 329796 words/s, in_qsize 5, out_qsize 0\n",
            "2021-05-02 06:22:58,365 : INFO : EPOCH 5 - PROGRESS: at 77.48% examples, 329252 words/s, in_qsize 3, out_qsize 2\n",
            "2021-05-02 06:22:59,394 : INFO : EPOCH 5 - PROGRESS: at 80.25% examples, 329393 words/s, in_qsize 5, out_qsize 0\n",
            "2021-05-02 06:23:00,409 : INFO : EPOCH 5 - PROGRESS: at 82.95% examples, 329444 words/s, in_qsize 5, out_qsize 0\n",
            "2021-05-02 06:23:01,438 : INFO : EPOCH 5 - PROGRESS: at 85.66% examples, 329479 words/s, in_qsize 4, out_qsize 1\n",
            "2021-05-02 06:23:02,447 : INFO : EPOCH 5 - PROGRESS: at 88.18% examples, 328972 words/s, in_qsize 5, out_qsize 0\n",
            "2021-05-02 06:23:03,452 : INFO : EPOCH 5 - PROGRESS: at 90.77% examples, 328812 words/s, in_qsize 5, out_qsize 0\n",
            "2021-05-02 06:23:04,488 : INFO : EPOCH 5 - PROGRESS: at 93.47% examples, 328639 words/s, in_qsize 5, out_qsize 0\n",
            "2021-05-02 06:23:05,516 : INFO : EPOCH 5 - PROGRESS: at 96.06% examples, 328253 words/s, in_qsize 6, out_qsize 0\n",
            "2021-05-02 06:23:06,537 : INFO : EPOCH 5 - PROGRESS: at 98.77% examples, 328209 words/s, in_qsize 5, out_qsize 0\n",
            "2021-05-02 06:23:06,965 : INFO : worker thread finished; awaiting finish of 2 more threads\n",
            "2021-05-02 06:23:06,975 : INFO : worker thread finished; awaiting finish of 1 more threads\n",
            "2021-05-02 06:23:06,984 : INFO : worker thread finished; awaiting finish of 0 more threads\n",
            "2021-05-02 06:23:06,985 : INFO : EPOCH - 5 : training on 17005207 raw words (12504847 effective words) took 38.1s, 328369 effective words/s\n",
            "2021-05-02 06:23:06,987 : INFO : training on a 85026035 raw words (62531328 effective words) took 198.3s, 315338 effective words/s\n"
          ],
          "name": "stderr"
        }
      ]
    },
    {
      "cell_type": "code",
      "metadata": {
        "colab": {
          "base_uri": "https://localhost:8080/"
        },
        "id": "0eVQFkMwvyjw",
        "outputId": "11bd4774-9335-452d-bd7c-20a722959d74"
      },
      "source": [
        "print(len(model.wv['man']))\n"
      ],
      "execution_count": null,
      "outputs": [
        {
          "output_type": "stream",
          "text": [
            "200\n"
          ],
          "name": "stdout"
        }
      ]
    },
    {
      "cell_type": "code",
      "metadata": {
        "colab": {
          "base_uri": "https://localhost:8080/"
        },
        "id": "Q8WP0Cchv5t1",
        "outputId": "211096b7-e7f3-46e0-8db5-726623c1c3ab"
      },
      "source": [
        "print(model.wv['man'])\n"
      ],
      "execution_count": null,
      "outputs": [
        {
          "output_type": "stream",
          "text": [
            "[-1.02693     2.0727487  -0.24991427  0.72141534  1.3311995   0.41155356\n",
            " -0.02692941 -0.5320657  -1.010676   -1.9101801   0.41116372 -0.98649144\n",
            " -1.3144131  -0.90821093  1.4952105   1.7532903  -0.579527   -0.15203145\n",
            " -0.1667864   0.21178992 -0.57775307  1.1050261  -1.2268286   0.16739736\n",
            "  1.2030449  -2.2246819  -1.7601776  -0.20901076  1.4723102  -0.13449404\n",
            "  0.8882177   0.95251685  0.18973564 -0.60722136 -0.6370103   0.7891632\n",
            " -0.43012524  0.11480571  0.4556211   0.05137302 -0.94106716  0.83542305\n",
            "  0.40850508 -0.47598472  1.305756   -0.06948897  0.13190243 -0.7838937\n",
            " -1.4553734   1.1260018   1.3448143  -2.3496106   0.40974307 -2.2439256\n",
            " -0.55071557 -0.94401336 -0.2789697  -0.8113081   2.1293485   1.0227466\n",
            " -0.04858858  2.477589    0.0777875   0.05284695  0.6166062   0.25054532\n",
            "  1.3553337  -0.21408921 -0.2014275  -0.9736718   0.587827   -0.48086753\n",
            " -3.2275515   0.9446317   1.8012809   0.8043353  -1.3196131  -1.286906\n",
            "  0.24835011 -0.89911896 -0.9466846   0.49316514 -0.8297746  -1.2627307\n",
            "  1.0815631   0.40734872 -1.2343907   0.01651309  0.87945646 -0.51445043\n",
            "  1.2106411   0.58230966 -0.67559123 -0.8309401   0.44692323  1.6352427\n",
            "  0.81191576  0.3050019   0.00619969 -0.8477967  -0.18171047 -1.6862242\n",
            " -1.453627   -1.5783329  -0.86419636 -0.08862558  1.3734803  -0.01574623\n",
            "  0.60702723  0.31269494  0.37111267  0.73879284  1.3219177  -2.4183662\n",
            "  0.9574005  -0.8102642   0.02873752 -1.0952231   0.6630798   1.3649075\n",
            "  1.5742961  -2.1140208   0.517376   -0.04934369  0.22266279  1.3462082\n",
            " -0.5964724  -0.946851   -1.3382254   1.2940977   0.0867984  -0.87917113\n",
            " -0.26616836 -1.1005628   0.08984904  0.33993497 -1.0368699  -0.47663197\n",
            " -1.8314561   0.9959368   1.5919243   1.8967547   0.41212767 -0.446429\n",
            "  1.5903728   1.9419156  -0.8570595  -1.5596935  -0.5604093  -0.9604424\n",
            " -0.76389337 -0.8026273  -1.6965318   0.25007185 -0.4256109   0.4080531\n",
            " -1.1381645   0.3063469  -2.870025    0.35513648 -1.3292062  -0.13008873\n",
            "  1.4179357   0.47746077  2.0816646  -1.3898517  -0.19382711 -0.08027881\n",
            "  0.70499295 -1.0352118   0.13664947  0.91854864 -0.33090895 -0.83393806\n",
            "  0.71011466  0.09364193 -1.4218758  -0.5180031   1.8955547  -0.31572613\n",
            " -2.6477208   0.48057842  0.10643402  0.2588891  -1.6251582   0.2222024\n",
            " -0.10480206 -0.5269513  -0.5022982  -0.36371857 -0.24660043  1.3912437\n",
            "  0.7173717  -0.9730127  -0.98613423  1.4211932   0.478878    0.25809604\n",
            " -1.9145906  -0.00412152]\n"
          ],
          "name": "stdout"
        }
      ]
    },
    {
      "cell_type": "code",
      "metadata": {
        "colab": {
          "base_uri": "https://localhost:8080/"
        },
        "id": "iZZmkVB6v7pq",
        "outputId": "066159be-c53a-49ef-b55b-3bba4893fd1d"
      },
      "source": [
        "model.wv.most_similar(['man'])\n"
      ],
      "execution_count": null,
      "outputs": [
        {
          "output_type": "stream",
          "text": [
            "2021-05-02 06:24:26,235 : INFO : precomputing L2-norms of word weight vectors\n"
          ],
          "name": "stderr"
        },
        {
          "output_type": "execute_result",
          "data": {
            "text/plain": [
              "[('woman', 0.6743803024291992),\n",
              " ('girl', 0.5846619606018066),\n",
              " ('boy', 0.5666465163230896),\n",
              " ('creature', 0.563193678855896),\n",
              " ('person', 0.5176407694816589),\n",
              " ('gentleman', 0.515376091003418),\n",
              " ('wicked', 0.5102072954177856),\n",
              " ('god', 0.5095352530479431),\n",
              " ('mortal', 0.49732792377471924),\n",
              " ('stranger', 0.4826577305793762)]"
            ]
          },
          "metadata": {
            "tags": []
          },
          "execution_count": 7
        }
      ]
    },
    {
      "cell_type": "code",
      "metadata": {
        "colab": {
          "base_uri": "https://localhost:8080/"
        },
        "id": "LJHIUt8bv_0b",
        "outputId": "c730acba-0347-42df-de9f-3fdf3d7d0d02"
      },
      "source": [
        "print( model.wv.most_similar(positive=['woman', 'king'], negative=['man'], topn=1)) #as promised :)\n"
      ],
      "execution_count": null,
      "outputs": [
        {
          "output_type": "stream",
          "text": [
            "[('queen', 0.6596889495849609)]\n"
          ],
          "name": "stdout"
        }
      ]
    },
    {
      "cell_type": "code",
      "metadata": {
        "colab": {
          "base_uri": "https://localhost:8080/"
        },
        "id": "U7RK3bEWwBjF",
        "outputId": "36af17a3-e869-485b-bfb1-f98478da5e6a"
      },
      "source": [
        "print(model.wv.most_similar(['girl', 'father'], ['boy'], topn=3))"
      ],
      "execution_count": null,
      "outputs": [
        {
          "output_type": "stream",
          "text": [
            "[('mother', 0.7648372054100037), ('wife', 0.7094861268997192), ('grandmother', 0.7082086205482483)]\n"
          ],
          "name": "stdout"
        }
      ]
    },
    {
      "cell_type": "code",
      "metadata": {
        "colab": {
          "base_uri": "https://localhost:8080/"
        },
        "id": "a63acpJ_wZqu",
        "outputId": "2a634764-f1d8-4c33-b0ca-be090f15f8bb"
      },
      "source": [
        "model.wv.most_similar(['david'])"
      ],
      "execution_count": null,
      "outputs": [
        {
          "output_type": "execute_result",
          "data": {
            "text/plain": [
              "[('michael', 0.7583831548690796),\n",
              " ('robert', 0.7239527106285095),\n",
              " ('stephen', 0.7141364812850952),\n",
              " ('scott', 0.7136726379394531),\n",
              " ('harold', 0.7116790413856506),\n",
              " ('gordon', 0.7096694111824036),\n",
              " ('andrew', 0.7096619606018066),\n",
              " ('roger', 0.7092709541320801),\n",
              " ('peter', 0.7006247639656067),\n",
              " ('neil', 0.7003951072692871)]"
            ]
          },
          "metadata": {
            "tags": []
          },
          "execution_count": 13
        }
      ]
    }
  ]
}